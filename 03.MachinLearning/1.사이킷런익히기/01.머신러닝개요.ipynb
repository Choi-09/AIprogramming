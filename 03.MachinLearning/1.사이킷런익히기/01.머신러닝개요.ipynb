{
 "cells": [
  {
   "cell_type": "markdown",
   "id": "846d8a48",
   "metadata": {},
   "source": [
    "# 1. 머신러닝\n",
    "- 애플리케이션을 수정하지 않고도 데이터를 기반으로 패턴을 학습하고 결과를 추론하는 알고리즘 기법\n",
    "- 현실 세계의 매우 복잡한 조건으로 인해 기존의 소프트웨어 코드만으로는 해결하기 어려웠던 많은 문제점을 머신러닝으로 해결\n",
    "- 데이터 마이닝, 영상인식, 음성인식, 자연어 처리에서 머신러닝적용, 급속하게 발전가능!"
   ]
  },
  {
   "cell_type": "markdown",
   "id": "98b4e8ce",
   "metadata": {},
   "source": [
    "### 머신러닝이 필요한 이유\n",
    "- 현실 세계의 복잡한 업무와 규칙을 구현하기위한 코드가 매우매우 복잡하고 방대함\n",
    "- 업무환경, 정책, 사용자 성향 등이 수시로 변하기 때문에 애플리케이션 구현이 어려움\n",
    "- 구현을 한다해도 투자한 많은 자원과 비용에 비해 예측 정확성에 문제가 있음"
   ]
  },
  {
   "cell_type": "markdown",
   "id": "9067c970",
   "metadata": {},
   "source": [
    "### 기존 컴퓨터 사이언스와 머신러닝의 차이\n",
    "- 기존 컴퓨터 사이언스: 입력값과 규칙을 주면 답을 도출해냄\n",
    "- 머신러닝: 입력값과 답을 주면 규칙(패턴)을 찾아냄"
   ]
  },
  {
   "cell_type": "markdown",
   "id": "a86fbc43",
   "metadata": {},
   "source": [
    "## 1. 머신러닝 유형"
   ]
  },
  {
   "cell_type": "markdown",
   "id": "a042f5a5",
   "metadata": {},
   "source": [
    "### 1. 지도학습\n",
    "- 분류\n",
    "- 회귀\n",
    "- 추천 시스템\n",
    "- 시각/음성감지/인지"
   ]
  },
  {
   "cell_type": "markdown",
   "id": "5f61ebd6",
   "metadata": {},
   "source": [
    "### 2. 비지도학습\n",
    "- 군집화(클러스터링)\n",
    "- 차원 축소\n",
    "- 토픽 모델링, 문서 군집화"
   ]
  },
  {
   "cell_type": "markdown",
   "id": "c0709267",
   "metadata": {},
   "source": [
    "### 3. 강화학습"
   ]
  },
  {
   "cell_type": "markdown",
   "id": "fa444263",
   "metadata": {},
   "source": [
    "## 2. 머신러닝의 단점\n",
    "- 데이터에 너무 의존적(Garbage In, Garbage Out)\n",
    "- 학습시에 최적의 결과를 도출하기 위해 수립된 머신러닝 모델은 실제 환경 데이터 적용 시 과적합(over fitting)되기 쉬움\n",
    "- 도출된 결과에 대한 논리적인 이해가 어려움 (머신러닝은 블랙박스)\n",
    "- 데이터만 집어 넣으면 자동으로 최적화된 결과를 도출하는 것이 아님!  끊임없이 모델을 개선하기 위한 노력이 필요하기 때문에 데이터의 특성을 파악하고 최적의 알고리즘과 파라미터를 구성할 수 있는 고급 능력이 필요함. "
   ]
  },
  {
   "cell_type": "markdown",
   "id": "38167402",
   "metadata": {},
   "source": [
    "### WHY 데이터 수집?\n",
    "- 데이터가 많으면 많을 수록 머신러닝 모델의 품질은 좋아진다.\n",
    "- 회사의 경쟁력은 어떤 품질의 머신러닝 모델을 가지고 있는지에 결정될 수 있다. "
   ]
  },
  {
   "cell_type": "markdown",
   "id": "7aacdf57",
   "metadata": {},
   "source": [
    "### 파이썬 머신러닝 생태계"
   ]
  },
  {
   "cell_type": "markdown",
   "id": "35ba8d6b",
   "metadata": {},
   "source": [
    "1. 머신러닝 패키지: scikit-learn\n",
    "2. 배열 / 선형대수 / 통계패키지: numpy, sciPy\n",
    "3. 데이터 핸들링: pandas\n",
    "4. 시각화: matplotlib, seaborn\n",
    "5. 대화형 파이썬툴: jupyter\n",
    "\n",
    "=>  Anaconde 가상환경 설치하면 한번에 설치가능"
   ]
  }
 ],
 "metadata": {
  "kernelspec": {
   "display_name": "Python 3 (ipykernel)",
   "language": "python",
   "name": "python3"
  },
  "language_info": {
   "codemirror_mode": {
    "name": "ipython",
    "version": 3
   },
   "file_extension": ".py",
   "mimetype": "text/x-python",
   "name": "python",
   "nbconvert_exporter": "python",
   "pygments_lexer": "ipython3",
   "version": "3.8.15"
  }
 },
 "nbformat": 4,
 "nbformat_minor": 5
}
