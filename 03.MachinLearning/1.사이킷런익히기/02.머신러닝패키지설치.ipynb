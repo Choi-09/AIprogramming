{
 "cells": [
  {
   "cell_type": "markdown",
   "id": "563b8ea5",
   "metadata": {},
   "source": [
    "# 1. Anaconda 가상환경 설치\n",
    "- scikit-learn, numpy, sciPy, pandas, matplotlib, seaborn, jupyter 한번에 설치\n",
    "- anaconda: https://www.anaconda.com/products/distribution"
   ]
  },
  {
   "cell_type": "markdown",
   "id": "a5a68794",
   "metadata": {},
   "source": [
    "### scikit-learn 버전맞춰서 설치\n",
    "1. Anaconda prompt 관리자 권한 실행\n",
    "    > pip install scikit-learn==1.0.2\n",
    "2. Jupyter notebook에서 설치 확인\n",
    "     > import sklearn <br/>\n",
    "     > print(sklearn.__version__)\n",
    "- scikit-learn: https://scikit-learn.org/stable/install.html\n",
    "- scikit-learn current version: https://scikit-learn.org/stable/whats_new.html"
   ]
  },
  {
   "cell_type": "markdown",
   "id": "8a5d27e6",
   "metadata": {},
   "source": [
    "# 2. Anaconda xgboost 설치\n",
    "1. Anaconda prompt 관리자 권한 실행\n",
    "    > conda install -c anaconda py-xgboost\n",
    "2. Jupyter notebook에서 설치 확인\n",
    "    > import xgboost <br/>\n",
    "    > print(xgboost.__version__)"
   ]
  },
  {
   "cell_type": "markdown",
   "id": "aebe475c",
   "metadata": {},
   "source": [
    "# 3. Visual Studio Build Tools 설치 \n",
    "(anaconda lightGBM설치하기 위해서)\n",
    "1. https://visualstudio.microsoft.com/ko/downloads/\n",
    "2. 페이지 하단 Visual Studio 2022용 빌드 도구 다운로드\n",
    "3. C++를 사용한 데스크톱 개발 설치 → 재부팅"
   ]
  },
  {
   "cell_type": "markdown",
   "id": "949632e4",
   "metadata": {},
   "source": [
    "# 4. Anaconda LightGBM설치\n",
    "1. https://anaconda.org/conda-forge/lightgbm\n",
    "2. Anaconda prompt 관리자권한 실행\n",
    "> conda install -c conda-forge lightgbm\n",
    "3. Jupyter notebook에서 설치 확인\n",
    "    > import lightgbm\n",
    "    > print(lightgbm.__version__)"
   ]
  }
 ],
 "metadata": {
  "kernelspec": {
   "display_name": "Python 3 (ipykernel)",
   "language": "python",
   "name": "python3"
  },
  "language_info": {
   "codemirror_mode": {
    "name": "ipython",
    "version": 3
   },
   "file_extension": ".py",
   "mimetype": "text/x-python",
   "name": "python",
   "nbconvert_exporter": "python",
   "pygments_lexer": "ipython3",
   "version": "3.8.15"
  }
 },
 "nbformat": 4,
 "nbformat_minor": 5
}
