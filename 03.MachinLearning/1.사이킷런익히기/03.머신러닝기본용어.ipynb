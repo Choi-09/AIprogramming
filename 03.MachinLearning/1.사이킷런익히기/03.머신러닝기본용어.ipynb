{
 "cells": [
  {
   "cell_type": "markdown",
   "id": "5f622fd3",
   "metadata": {},
   "source": [
    "# 3. 머신러닝 용어정리"
   ]
  },
  {
   "cell_type": "markdown",
   "id": "89ae7faa",
   "metadata": {},
   "source": [
    "## Scikit-learn"
   ]
  },
  {
   "cell_type": "markdown",
   "id": "69e7e29b",
   "metadata": {},
   "source": [
    "### - 사이킷런 장점\n",
    "1. 쉽고 가장 파이썬스러운 API 제공\n",
    "2. 머신러닝을 위한 매우 다양한 알고리즘과 개발을 위한 편리한 프레임워크와 API 제공\n",
    "3. 오랜 기간동안 검증되었으며, 매우 많은 환경에서 사용되는 성숙한 라이브러리\n",
    "4. 주로 Numpy와 Scipy 기반 위에서 구축된 라이브러리"
   ]
  },
  {
   "cell_type": "markdown",
   "id": "d4bdd089",
   "metadata": {},
   "source": [
    "### 1) 용어 정리"
   ]
  },
  {
   "cell_type": "markdown",
   "id": "fbb40f4d",
   "metadata": {},
   "source": [
    "#### (1) 피처, 속성\n",
    "- 피처: 데이터 세트의 일반 속성. 타겟값을 제외한 나머지 속성 모두를 피처로 지칭"
   ]
  },
  {
   "cell_type": "markdown",
   "id": "30eaac1b",
   "metadata": {},
   "source": [
    "#### (2) 레이블 = 클래스 = 타겟(값) = 결정(값)\n",
    "+ 지도 학습시 데이터의 학습을 위해 주어지는 정답 데이터.\n",
    "+ 지도학습 중 분류의 경우 레이블 or 클래스로 지칭"
   ]
  },
  {
   "cell_type": "markdown",
   "id": "e886d644",
   "metadata": {},
   "source": [
    "### 2. 지도학습"
   ]
  },
  {
   "cell_type": "markdown",
   "id": "75dc9aaf",
   "metadata": {},
   "source": [
    "### (1) 분류\n",
    "- 대표적인 지도학습 방법 중 하나\n",
    "- 지도학습은 학습을 위한 다양한 피처와 분류 결정값인 레이블 데이터로 모델을 학습한 뒤, 별도의 데이터 세트에서 미지의 레이블을 예측\n",
    "> \"지도학습이란 명확한 정답이 주어진 데이터를 먼저 학습한 뒤 미지의 정답을 예측하는 방식\"\n",
    "- 학습(train) 데이터 세트: 학습을 위해 주어진 데이터 세트\n",
    "- 테스트(test) 데이터 세트: 머신러닝 예측 성능을 평가하기 위해 별도로 주어진 데이터 세트"
   ]
  },
  {
   "cell_type": "markdown",
   "id": "6f850fda",
   "metadata": {},
   "source": [
    "### 3. 데이터 분류 예측 프로세스\n",
    "1) 데이터 세트 분리 : 데이터를 학습 데이터와 테스트 데이터로 분리\n",
    "\n",
    "2) 모델 학습 : 학습데이터를 기반으로 ML 알고리즘을 적용해 모델을 학습\n",
    "\n",
    "3) 예측 수행 : 학습된 ML 모델을 이용해 테스트 데이터의 분류를 예측\n",
    "\n",
    "4) 평가 : 예측된 결괏값과 테스트 데이터의 실제 결괏값을 비교해 ML모델 성능을 평가"
   ]
  }
 ],
 "metadata": {
  "kernelspec": {
   "display_name": "Python 3 (ipykernel)",
   "language": "python",
   "name": "python3"
  },
  "language_info": {
   "codemirror_mode": {
    "name": "ipython",
    "version": 3
   },
   "file_extension": ".py",
   "mimetype": "text/x-python",
   "name": "python",
   "nbconvert_exporter": "python",
   "pygments_lexer": "ipython3",
   "version": "3.8.15"
  }
 },
 "nbformat": 4,
 "nbformat_minor": 5
}
