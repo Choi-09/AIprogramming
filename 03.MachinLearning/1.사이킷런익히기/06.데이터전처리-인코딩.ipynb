{
 "cells": [
  {
   "cell_type": "markdown",
   "id": "6a27df27",
   "metadata": {},
   "source": [
    "# 6. 데이터 전처리(Preprocessing)\n",
    "1) 데이터 클린징\n",
    "\n",
    "2) 결손값 처리 (Null / NaN 처리)\n",
    "\n",
    "**3) 데이터 인코딩 (레이블, 원-핫 인코딩): 문자열 → 숫자값**\n",
    "\n",
    "4) 데이터 스케일링: 단위 통일\n",
    "\n",
    "5) 이상치 제거: outlier 처리\n",
    "\n",
    "6) Feature 선택, 추출 및 가공"
   ]
  },
  {
   "cell_type": "markdown",
   "id": "c3e65e33",
   "metadata": {},
   "source": [
    "## 1) 데이터 인코딩\n",
    "+ 머신러닝 알고리즘은 문자열 데이터 속성을 입력 받지 않으며 모든 데이터는 숫자형으로 표현되어야 한다.\n",
    "\n",
    "> 문자형 카테고리형 속성은 모두 숫자값으로 변환 / 인코딩 되어야 한다.\n",
    "\n",
    "1) 레이블 인코딩\n",
    "\n",
    "2) 원-핫 인코딩"
   ]
  },
  {
   "cell_type": "markdown",
   "id": "34737398",
   "metadata": {},
   "source": [
    "### (1-1) 레이블 인코딩"
   ]
  },
  {
   "cell_type": "markdown",
   "id": "43879aa4",
   "metadata": {},
   "source": [
    "#### 인코딩 방법\n",
    "+ LabelEncoder 클래스로\n",
    "+ fit()과 transform()을 이용하여 변환"
   ]
  },
  {
   "attachments": {
    "image-6.png": {
     "image/png": "[encoded data removed]"
    }
   },
   "cell_type": "markdown",
   "id": "1c1bd14b",
   "metadata": {},
   "source": [
    "![image-6.png](attachment:image-6.png)"
   ]
  },
  {
   "cell_type": "markdown",
   "id": "8934cf72",
   "metadata": {},
   "source": [
    "##### > 숫자값으로 변환 되면서 크기 비교, 연산 등이 가능해지면서 변수간 독립성이 무너지게 됨. <br/>      몇몇 알고리즘에 영향을 받을 수 있다는 단점이 있음.  => one-hot 인코딩 필요"
   ]
  },
  {
   "cell_type": "code",
   "execution_count": 16,
   "id": "b6f394cc",
   "metadata": {},
   "outputs": [
    {
     "name": "stdout",
     "output_type": "stream",
     "text": [
      "<class 'list'>\n",
      "인코딩 변환값:  [1 0 4 5 3 3 2 2]\n"
     ]
    }
   ],
   "source": [
    "from sklearn.preprocessing import LabelEncoder\n",
    "\n",
    "items = ['냉장고', 'TV', '전자레인지', '컴퓨터', '선풍기', '선풍기', '믹서', '믹서']\n",
    "print(type(items))\n",
    "encoder = LabelEncoder() # 레이블 인코더 객체 생성\n",
    "encoder.fit(items)  # 학습, 변환할 때 fit 사용\n",
    "labels = encoder.transform(items) # transform: 변환\n",
    "print('인코딩 변환값: ', labels)"
   ]
  },
  {
   "cell_type": "code",
   "execution_count": 7,
   "id": "ce1d8cfd",
   "metadata": {},
   "outputs": [
    {
     "name": "stdout",
     "output_type": "stream",
     "text": [
      "인코딩 클래스:  ['TV' '냉장고' '믹서' '선풍기' '전자레인지' '컴퓨터']\n"
     ]
    }
   ],
   "source": [
    "# 인코딩 레이블 문자열값 출력: encoder.classes_\n",
    "print('인코딩 클래스: ', encoder.classes_)"
   ]
  },
  {
   "cell_type": "code",
   "execution_count": 11,
   "id": "3c46adb8",
   "metadata": {},
   "outputs": [
    {
     "name": "stdout",
     "output_type": "stream",
     "text": [
      "디코딩 원본 값:  ['냉장고' 'TV' '전자레인지' '컴퓨터' '선풍기' '선풍기' '믹서' '믹서']\n"
     ]
    }
   ],
   "source": [
    "# 레이블인코딩 값을 다시 원본 문자열로 출력: encoder.inverse_transform([items])\n",
    "print('디코딩 원본 값: ', encoder.inverse_transform([1, 0, 4, 5, 3, 3, 2, 2]))"
   ]
  },
  {
   "cell_type": "markdown",
   "id": "15353a82",
   "metadata": {},
   "source": [
    "### (1-2) 원-핫(One-Hot)인코딩\n",
    "+ 원-핫 인코딩은 피처값의 유형에 따라 새로운 피처를 추가해 고유 값에 해당하는 컬럼에만 <br/>1을 표시하고 나머지 컬럼에는 0을 표시하는 방식."
   ]
  },
  {
   "cell_type": "markdown",
   "id": "852fd3e3",
   "metadata": {},
   "source": [
    "#### 인코딩 방법\n",
    "+ OneHotEncoder 클래스\n",
    "+ fit()과 transform()을 이용하여 변환. 인자로 2차원 ndarray 입력 필요. <br/>\n",
    "   이 때 Sparse 배열 형태로 변환되므로 toarray()를 적용하여 다시 Dense 형태로 변환시켜야 함.\n",
    "+ pd.get_dummies(DataFrame)을 이용"
   ]
  },
  {
   "attachments": {
    "image-2.png": {
     "image/png": "[encoded data removed]"
    }
   },
   "cell_type": "markdown",
   "id": "d95d0bdd",
   "metadata": {},
   "source": [
    "![image-2.png](attachment:image-2.png)"
   ]
  },
  {
   "cell_type": "markdown",
   "id": "0cb05f5b",
   "metadata": {},
   "source": [
    "##### > 원-핫 인코딩으로 피처간 사이의 상관관계를 없애준다"
   ]
  },
  {
   "cell_type": "code",
   "execution_count": 33,
   "id": "ae9cf3ba",
   "metadata": {},
   "outputs": [
    {
     "name": "stdout",
     "output_type": "stream",
     "text": [
      "<class 'numpy.ndarray'>\n",
      "(8, 1)\n",
      "=============\n",
      "원-핫 인코딩 데이터: \n",
      "[[0. 1. 0. 0. 0. 0.]\n",
      " [1. 0. 0. 0. 0. 0.]\n",
      " [0. 0. 0. 0. 1. 0.]\n",
      " [0. 0. 0. 0. 0. 1.]\n",
      " [0. 0. 0. 1. 0. 0.]\n",
      " [0. 0. 0. 1. 0. 0.]\n",
      " [0. 0. 1. 0. 0. 0.]\n",
      " [0. 0. 1. 0. 0. 0.]]\n",
      "원-핫 인코딩 데이터 차원: \n",
      "Dense 행렬:  <class 'numpy.ndarray'>\n",
      "Sparse 행렬:  <class 'scipy.sparse._csr.csr_matrix'>\n"
     ]
    }
   ],
   "source": [
    "from sklearn.preprocessing import OneHotEncoder\n",
    "import numpy as np\n",
    "\n",
    "items = ['냉장고', 'TV', '전자레인지', '컴퓨터', '선풍기', '선풍기', '믹서', '믹서']\n",
    "\n",
    "# 2차원 ndarray로 변환\n",
    "items = np.array(items).reshape(-1,1)\n",
    "print(type(items))\n",
    "print(items.shape)\n",
    "print(\"=============\")\n",
    "# 원-핫 인코딩 적용\n",
    "oh_encoder = OneHotEncoder()\n",
    "oh_encoder.fit(items)\n",
    "oh_labels = oh_encoder.transform(items)\n",
    "# => labels = encoder.fit_transform(items)\n",
    "\n",
    "# OneHotEncoder로 변환한 결과는 Sparse 행렬(희소 행렬)이므로 이를 Dense행렬로 변환.\n",
    "print('원-핫 인코딩 데이터: ')\n",
    "print(oh_labels.toarray())\n",
    "print('원-핫 인코딩 데이터 차원: ')\n",
    "print('Dense 행렬: ', type(oh_labels.toarray()))\n",
    "print('Sparse 행렬: ', type(oh_labels))"
   ]
  },
  {
   "cell_type": "markdown",
   "id": "094e40b0",
   "metadata": {},
   "source": [
    "##### 판다스로 간결하게 원-핫 인코딩 하기\n",
    "+ pd.get_dummies( )"
   ]
  },
  {
   "cell_type": "code",
   "execution_count": 34,
   "id": "95003a98",
   "metadata": {},
   "outputs": [
    {
     "data": {
      "text/html": [
       "<div>\n",
       "<style scoped>\n",
       "    .dataframe tbody tr th:only-of-type {\n",
       "        vertical-align: middle;\n",
       "    }\n",
       "\n",
       "    .dataframe tbody tr th {\n",
       "        vertical-align: top;\n",
       "    }\n",
       "\n",
       "    .dataframe thead th {\n",
       "        text-align: right;\n",
       "    }\n",
       "</style>\n",
       "<table border=\"1\" class=\"dataframe\">\n",
       "  <thead>\n",
       "    <tr style=\"text-align: right;\">\n",
       "      <th></th>\n",
       "      <th>item</th>\n",
       "    </tr>\n",
       "  </thead>\n",
       "  <tbody>\n",
       "    <tr>\n",
       "      <th>0</th>\n",
       "      <td>냉장고</td>\n",
       "    </tr>\n",
       "    <tr>\n",
       "      <th>1</th>\n",
       "      <td>TV</td>\n",
       "    </tr>\n",
       "    <tr>\n",
       "      <th>2</th>\n",
       "      <td>전자레인지</td>\n",
       "    </tr>\n",
       "    <tr>\n",
       "      <th>3</th>\n",
       "      <td>컴퓨터</td>\n",
       "    </tr>\n",
       "    <tr>\n",
       "      <th>4</th>\n",
       "      <td>선풍기</td>\n",
       "    </tr>\n",
       "    <tr>\n",
       "      <th>5</th>\n",
       "      <td>선풍기</td>\n",
       "    </tr>\n",
       "    <tr>\n",
       "      <th>6</th>\n",
       "      <td>믹서</td>\n",
       "    </tr>\n",
       "    <tr>\n",
       "      <th>7</th>\n",
       "      <td>믹서</td>\n",
       "    </tr>\n",
       "  </tbody>\n",
       "</table>\n",
       "</div>"
      ],
      "text/plain": [
       "    item\n",
       "0    냉장고\n",
       "1     TV\n",
       "2  전자레인지\n",
       "3    컴퓨터\n",
       "4    선풍기\n",
       "5    선풍기\n",
       "6     믹서\n",
       "7     믹서"
      ]
     },
     "execution_count": 34,
     "metadata": {},
     "output_type": "execute_result"
    }
   ],
   "source": [
    "import pandas as pd\n",
    "df = pd.DataFrame({'item': ['냉장고', 'TV', '전자레인지', '컴퓨터', '선풍기', '선풍기', '믹서', '믹서']})\n",
    "df"
   ]
  },
  {
   "cell_type": "code",
   "execution_count": 37,
   "id": "8a4d6e63",
   "metadata": {},
   "outputs": [
    {
     "data": {
      "text/html": [
       "<div>\n",
       "<style scoped>\n",
       "    .dataframe tbody tr th:only-of-type {\n",
       "        vertical-align: middle;\n",
       "    }\n",
       "\n",
       "    .dataframe tbody tr th {\n",
       "        vertical-align: top;\n",
       "    }\n",
       "\n",
       "    .dataframe thead th {\n",
       "        text-align: right;\n",
       "    }\n",
       "</style>\n",
       "<table border=\"1\" class=\"dataframe\">\n",
       "  <thead>\n",
       "    <tr style=\"text-align: right;\">\n",
       "      <th></th>\n",
       "      <th>item_TV</th>\n",
       "      <th>item_냉장고</th>\n",
       "      <th>item_믹서</th>\n",
       "      <th>item_선풍기</th>\n",
       "      <th>item_전자레인지</th>\n",
       "      <th>item_컴퓨터</th>\n",
       "    </tr>\n",
       "  </thead>\n",
       "  <tbody>\n",
       "    <tr>\n",
       "      <th>0</th>\n",
       "      <td>0</td>\n",
       "      <td>1</td>\n",
       "      <td>0</td>\n",
       "      <td>0</td>\n",
       "      <td>0</td>\n",
       "      <td>0</td>\n",
       "    </tr>\n",
       "    <tr>\n",
       "      <th>1</th>\n",
       "      <td>1</td>\n",
       "      <td>0</td>\n",
       "      <td>0</td>\n",
       "      <td>0</td>\n",
       "      <td>0</td>\n",
       "      <td>0</td>\n",
       "    </tr>\n",
       "    <tr>\n",
       "      <th>2</th>\n",
       "      <td>0</td>\n",
       "      <td>0</td>\n",
       "      <td>0</td>\n",
       "      <td>0</td>\n",
       "      <td>1</td>\n",
       "      <td>0</td>\n",
       "    </tr>\n",
       "    <tr>\n",
       "      <th>3</th>\n",
       "      <td>0</td>\n",
       "      <td>0</td>\n",
       "      <td>0</td>\n",
       "      <td>0</td>\n",
       "      <td>0</td>\n",
       "      <td>1</td>\n",
       "    </tr>\n",
       "    <tr>\n",
       "      <th>4</th>\n",
       "      <td>0</td>\n",
       "      <td>0</td>\n",
       "      <td>0</td>\n",
       "      <td>1</td>\n",
       "      <td>0</td>\n",
       "      <td>0</td>\n",
       "    </tr>\n",
       "    <tr>\n",
       "      <th>5</th>\n",
       "      <td>0</td>\n",
       "      <td>0</td>\n",
       "      <td>0</td>\n",
       "      <td>1</td>\n",
       "      <td>0</td>\n",
       "      <td>0</td>\n",
       "    </tr>\n",
       "    <tr>\n",
       "      <th>6</th>\n",
       "      <td>0</td>\n",
       "      <td>0</td>\n",
       "      <td>1</td>\n",
       "      <td>0</td>\n",
       "      <td>0</td>\n",
       "      <td>0</td>\n",
       "    </tr>\n",
       "    <tr>\n",
       "      <th>7</th>\n",
       "      <td>0</td>\n",
       "      <td>0</td>\n",
       "      <td>1</td>\n",
       "      <td>0</td>\n",
       "      <td>0</td>\n",
       "      <td>0</td>\n",
       "    </tr>\n",
       "  </tbody>\n",
       "</table>\n",
       "</div>"
      ],
      "text/plain": [
       "   item_TV  item_냉장고  item_믹서  item_선풍기  item_전자레인지  item_컴퓨터\n",
       "0        0         1        0         0           0         0\n",
       "1        1         0        0         0           0         0\n",
       "2        0         0        0         0           1         0\n",
       "3        0         0        0         0           0         1\n",
       "4        0         0        0         1           0         0\n",
       "5        0         0        0         1           0         0\n",
       "6        0         0        1         0           0         0\n",
       "7        0         0        1         0           0         0"
      ]
     },
     "metadata": {},
     "output_type": "display_data"
    }
   ],
   "source": [
    "ohe_df = pd.get_dummies(df)\n",
    "display(ohe_df)"
   ]
  }
 ],
 "metadata": {
  "kernelspec": {
   "display_name": "Python 3 (ipykernel)",
   "language": "python",
   "name": "python3"
  },
  "language_info": {
   "codemirror_mode": {
    "name": "ipython",
    "version": 3
   },
   "file_extension": ".py",
   "mimetype": "text/x-python",
   "name": "python",
   "nbconvert_exporter": "python",
   "pygments_lexer": "ipython3",
   "version": "3.8.15"
  }
 },
 "nbformat": 4,
 "nbformat_minor": 5
}
